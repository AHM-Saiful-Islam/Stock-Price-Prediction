{
 "cells": [
  {
   "cell_type": "code",
   "execution_count": 8,
   "metadata": {},
   "outputs": [],
   "source": [
    "# Gathering Stock Market Data"
   ]
  },
  {
   "cell_type": "code",
   "execution_count": 4,
   "metadata": {
    "vscode": {
     "languageId": "plaintext"
    }
   },
   "outputs": [
    {
     "name": "stderr",
     "output_type": "stream",
     "text": [
      "[*********************100%***********************]  1 of 1 completed"
     ]
    },
    {
     "name": "stdout",
     "output_type": "stream",
     "text": [
      "Price                      Adj Close      Close       High        Low  \\\n",
      "Ticker                          AAPL       AAPL       AAPL       AAPL   \n",
      "Date                                                                    \n",
      "2020-01-02 00:00:00+00:00  72.796021  75.087502  75.150002  73.797501   \n",
      "2020-01-03 00:00:00+00:00  72.088295  74.357498  75.144997  74.125000   \n",
      "2020-01-06 00:00:00+00:00  72.662727  74.949997  74.989998  73.187500   \n",
      "2020-01-07 00:00:00+00:00  72.320969  74.597504  75.224998  74.370003   \n",
      "2020-01-08 00:00:00+00:00  73.484375  75.797501  76.110001  74.290001   \n",
      "\n",
      "Price                           Open     Volume  \n",
      "Ticker                          AAPL       AAPL  \n",
      "Date                                             \n",
      "2020-01-02 00:00:00+00:00  74.059998  135480400  \n",
      "2020-01-03 00:00:00+00:00  74.287498  146322800  \n",
      "2020-01-06 00:00:00+00:00  73.447502  118387200  \n",
      "2020-01-07 00:00:00+00:00  74.959999  108872000  \n",
      "2020-01-08 00:00:00+00:00  74.290001  132079200  \n"
     ]
    },
    {
     "name": "stderr",
     "output_type": "stream",
     "text": [
      "\n"
     ]
    }
   ],
   "source": [
    "import yfinance as yf\n",
    "\n",
    "# Download historical stock data\n",
    "ticker = 'AAPL'  # Example: Apple Inc.\n",
    "data = yf.download(ticker, start='2020-01-01', end='2024-01-01')\n",
    "print(data.head())"
   ]
  },
  {
   "cell_type": "code",
   "execution_count": 9,
   "metadata": {},
   "outputs": [],
   "source": [
    "# Preprocessing the Data"
   ]
  },
  {
   "cell_type": "code",
   "execution_count": 2,
   "metadata": {},
   "outputs": [
    {
     "ename": "ModuleNotFoundError",
     "evalue": "No module named 'sklearn'",
     "output_type": "error",
     "traceback": [
      "\u001b[1;31m---------------------------------------------------------------------------\u001b[0m",
      "\u001b[1;31mModuleNotFoundError\u001b[0m                       Traceback (most recent call last)",
      "Cell \u001b[1;32mIn[2], line 1\u001b[0m\n\u001b[1;32m----> 1\u001b[0m \u001b[38;5;28;01mfrom\u001b[39;00m \u001b[38;5;21;01msklearn\u001b[39;00m\u001b[38;5;21;01m.\u001b[39;00m\u001b[38;5;21;01mmodel_selection\u001b[39;00m \u001b[38;5;28;01mimport\u001b[39;00m train_test_split\n\u001b[0;32m      2\u001b[0m \u001b[38;5;28;01mfrom\u001b[39;00m \u001b[38;5;21;01msklearn\u001b[39;00m\u001b[38;5;21;01m.\u001b[39;00m\u001b[38;5;21;01mpreprocessing\u001b[39;00m \u001b[38;5;28;01mimport\u001b[39;00m MinMaxScaler\n",
      "\u001b[1;31mModuleNotFoundError\u001b[0m: No module named 'sklearn'"
     ]
    }
   ],
   "source": [
    "from sklearn.model_selection import train_test_split\n",
    "from sklearn.preprocessing import MinMaxScaler"
   ]
  },
  {
   "cell_type": "code",
   "execution_count": 7,
   "metadata": {},
   "outputs": [
    {
     "name": "stdout",
     "output_type": "stream",
     "text": [
      "Collecting scikit-learn\n",
      "  Downloading scikit_learn-1.5.2-cp312-cp312-win_amd64.whl.metadata (13 kB)\n",
      "Requirement already satisfied: numpy>=1.19.5 in d:\\my-code\\data analysis\\stock-price-prediction\\env\\lib\\site-packages (from scikit-learn) (2.1.3)\n",
      "Collecting scipy>=1.6.0 (from scikit-learn)\n",
      "  Downloading scipy-1.14.1-cp312-cp312-win_amd64.whl.metadata (60 kB)\n",
      "Collecting joblib>=1.2.0 (from scikit-learn)\n",
      "  Downloading joblib-1.4.2-py3-none-any.whl.metadata (5.4 kB)\n",
      "Collecting threadpoolctl>=3.1.0 (from scikit-learn)\n",
      "  Downloading threadpoolctl-3.5.0-py3-none-any.whl.metadata (13 kB)\n",
      "Downloading scikit_learn-1.5.2-cp312-cp312-win_amd64.whl (11.0 MB)\n",
      "   ---------------------------------------- 0.0/11.0 MB ? eta -:--:--\n",
      "   --- ------------------------------------ 1.0/11.0 MB 6.3 MB/s eta 0:00:02\n",
      "   ------ --------------------------------- 1.8/11.0 MB 5.0 MB/s eta 0:00:02\n",
      "   --------- ------------------------------ 2.6/11.0 MB 4.2 MB/s eta 0:00:02\n",
      "   ----------- ---------------------------- 3.1/11.0 MB 3.9 MB/s eta 0:00:02\n",
      "   ------------- -------------------------- 3.7/11.0 MB 3.8 MB/s eta 0:00:02\n",
      "   ---------------- ----------------------- 4.5/11.0 MB 3.6 MB/s eta 0:00:02\n",
      "   ------------------ --------------------- 5.0/11.0 MB 3.5 MB/s eta 0:00:02\n",
      "   -------------------- ------------------- 5.8/11.0 MB 3.5 MB/s eta 0:00:02\n",
      "   ---------------------- ----------------- 6.3/11.0 MB 3.4 MB/s eta 0:00:02\n",
      "   ------------------------ --------------- 6.8/11.0 MB 3.4 MB/s eta 0:00:02\n",
      "   --------------------------- ------------ 7.6/11.0 MB 3.3 MB/s eta 0:00:02\n",
      "   ----------------------------- ---------- 8.1/11.0 MB 3.3 MB/s eta 0:00:01\n",
      "   ------------------------------- -------- 8.7/11.0 MB 3.3 MB/s eta 0:00:01\n",
      "   ---------------------------------- ----- 9.4/11.0 MB 3.3 MB/s eta 0:00:01\n",
      "   ------------------------------------ --- 10.0/11.0 MB 3.2 MB/s eta 0:00:01\n",
      "   ---------------------------------------  10.7/11.0 MB 3.2 MB/s eta 0:00:01\n",
      "   ---------------------------------------- 11.0/11.0 MB 3.2 MB/s eta 0:00:00\n",
      "Downloading joblib-1.4.2-py3-none-any.whl (301 kB)\n",
      "Downloading scipy-1.14.1-cp312-cp312-win_amd64.whl (44.5 MB)\n",
      "   ---------------------------------------- 0.0/44.5 MB ? eta -:--:--\n",
      "    --------------------------------------- 0.8/44.5 MB 4.8 MB/s eta 0:00:10\n",
      "   - -------------------------------------- 1.6/44.5 MB 3.5 MB/s eta 0:00:13\n",
      "   - -------------------------------------- 2.1/44.5 MB 3.4 MB/s eta 0:00:13\n",
      "   -- ------------------------------------- 2.9/44.5 MB 3.3 MB/s eta 0:00:13\n",
      "   --- ------------------------------------ 3.4/44.5 MB 3.2 MB/s eta 0:00:13\n",
      "   --- ------------------------------------ 3.9/44.5 MB 3.2 MB/s eta 0:00:13\n",
      "   ---- ----------------------------------- 4.7/44.5 MB 3.1 MB/s eta 0:00:13\n",
      "   ---- ----------------------------------- 5.2/44.5 MB 3.2 MB/s eta 0:00:13\n",
      "   ----- ---------------------------------- 6.0/44.5 MB 3.1 MB/s eta 0:00:13\n",
      "   ----- ---------------------------------- 6.6/44.5 MB 3.1 MB/s eta 0:00:13\n",
      "   ------ --------------------------------- 7.3/44.5 MB 3.1 MB/s eta 0:00:12\n",
      "   ------- -------------------------------- 7.9/44.5 MB 3.1 MB/s eta 0:00:12\n",
      "   ------- -------------------------------- 8.7/44.5 MB 3.1 MB/s eta 0:00:12\n",
      "   -------- ------------------------------- 9.2/44.5 MB 3.1 MB/s eta 0:00:12\n",
      "   -------- ------------------------------- 9.7/44.5 MB 3.1 MB/s eta 0:00:12\n",
      "   --------- ------------------------------ 10.5/44.5 MB 3.1 MB/s eta 0:00:12\n",
      "   --------- ------------------------------ 11.0/44.5 MB 3.1 MB/s eta 0:00:11\n",
      "   ---------- ----------------------------- 11.8/44.5 MB 3.1 MB/s eta 0:00:11\n",
      "   ----------- ---------------------------- 12.3/44.5 MB 3.1 MB/s eta 0:00:11\n",
      "   ----------- ---------------------------- 12.8/44.5 MB 3.1 MB/s eta 0:00:11\n",
      "   ----------- ---------------------------- 13.1/44.5 MB 3.0 MB/s eta 0:00:11\n",
      "   ------------ --------------------------- 13.9/44.5 MB 3.0 MB/s eta 0:00:11\n",
      "   ------------- -------------------------- 14.9/44.5 MB 3.1 MB/s eta 0:00:10\n",
      "   ------------- -------------------------- 15.5/44.5 MB 3.1 MB/s eta 0:00:10\n",
      "   -------------- ------------------------- 15.7/44.5 MB 3.0 MB/s eta 0:00:10\n",
      "   -------------- ------------------------- 16.3/44.5 MB 2.9 MB/s eta 0:00:10\n",
      "   --------------- ------------------------ 17.0/44.5 MB 3.0 MB/s eta 0:00:10\n",
      "   ---------------- ----------------------- 17.8/44.5 MB 3.0 MB/s eta 0:00:09\n",
      "   ---------------- ----------------------- 18.6/44.5 MB 3.1 MB/s eta 0:00:09\n",
      "   ----------------- ---------------------- 19.4/44.5 MB 3.1 MB/s eta 0:00:09\n",
      "   ----------------- ---------------------- 19.9/44.5 MB 3.1 MB/s eta 0:00:09\n",
      "   ------------------ --------------------- 20.7/44.5 MB 3.1 MB/s eta 0:00:08\n",
      "   ------------------- -------------------- 21.2/44.5 MB 3.1 MB/s eta 0:00:08\n",
      "   ------------------- -------------------- 21.8/44.5 MB 3.1 MB/s eta 0:00:08\n",
      "   -------------------- ------------------- 22.5/44.5 MB 3.1 MB/s eta 0:00:08\n",
      "   -------------------- ------------------- 23.1/44.5 MB 3.1 MB/s eta 0:00:08\n",
      "   --------------------- ------------------ 23.9/44.5 MB 3.1 MB/s eta 0:00:07\n",
      "   --------------------- ------------------ 24.4/44.5 MB 3.1 MB/s eta 0:00:07\n",
      "   ---------------------- ----------------- 25.2/44.5 MB 3.1 MB/s eta 0:00:07\n",
      "   ----------------------- ---------------- 25.7/44.5 MB 3.1 MB/s eta 0:00:07\n",
      "   ----------------------- ---------------- 26.2/44.5 MB 3.1 MB/s eta 0:00:06\n",
      "   ------------------------ --------------- 27.0/44.5 MB 3.1 MB/s eta 0:00:06\n",
      "   ------------------------ --------------- 27.5/44.5 MB 3.1 MB/s eta 0:00:06\n",
      "   ------------------------- -------------- 28.3/44.5 MB 3.1 MB/s eta 0:00:06\n",
      "   ------------------------- -------------- 28.8/44.5 MB 3.1 MB/s eta 0:00:06\n",
      "   -------------------------- ------------- 29.4/44.5 MB 3.1 MB/s eta 0:00:05\n",
      "   --------------------------- ------------ 30.1/44.5 MB 3.1 MB/s eta 0:00:05\n",
      "   --------------------------- ------------ 30.7/44.5 MB 3.1 MB/s eta 0:00:05\n",
      "   ---------------------------- ----------- 31.5/44.5 MB 3.0 MB/s eta 0:00:05\n",
      "   ---------------------------- ----------- 32.0/44.5 MB 3.0 MB/s eta 0:00:05\n",
      "   ----------------------------- ---------- 32.8/44.5 MB 3.1 MB/s eta 0:00:04\n",
      "   ----------------------------- ---------- 33.3/44.5 MB 3.1 MB/s eta 0:00:04\n",
      "   ------------------------------ --------- 33.8/44.5 MB 3.0 MB/s eta 0:00:04\n",
      "   ------------------------------- -------- 34.6/44.5 MB 3.0 MB/s eta 0:00:04\n",
      "   ------------------------------- -------- 35.1/44.5 MB 3.0 MB/s eta 0:00:04\n",
      "   -------------------------------- ------- 35.9/44.5 MB 3.0 MB/s eta 0:00:03\n",
      "   -------------------------------- ------- 36.4/44.5 MB 3.0 MB/s eta 0:00:03\n",
      "   --------------------------------- ------ 37.2/44.5 MB 3.0 MB/s eta 0:00:03\n",
      "   --------------------------------- ------ 37.7/44.5 MB 3.0 MB/s eta 0:00:03\n",
      "   ---------------------------------- ----- 38.3/44.5 MB 3.0 MB/s eta 0:00:03\n",
      "   ----------------------------------- ---- 39.1/44.5 MB 3.0 MB/s eta 0:00:02\n",
      "   ----------------------------------- ---- 39.6/44.5 MB 3.0 MB/s eta 0:00:02\n",
      "   ------------------------------------ --- 40.4/44.5 MB 3.0 MB/s eta 0:00:02\n",
      "   ------------------------------------ --- 40.9/44.5 MB 3.0 MB/s eta 0:00:02\n",
      "   ------------------------------------- -- 41.7/44.5 MB 3.0 MB/s eta 0:00:01\n",
      "   ------------------------------------- -- 42.2/44.5 MB 3.0 MB/s eta 0:00:01\n",
      "   -------------------------------------- - 42.7/44.5 MB 3.0 MB/s eta 0:00:01\n",
      "   ---------------------------------------  43.5/44.5 MB 3.0 MB/s eta 0:00:01\n",
      "   ---------------------------------------  44.0/44.5 MB 3.0 MB/s eta 0:00:01\n",
      "   ---------------------------------------  44.3/44.5 MB 3.0 MB/s eta 0:00:01\n",
      "   ---------------------------------------- 44.5/44.5 MB 3.0 MB/s eta 0:00:00\n",
      "Downloading threadpoolctl-3.5.0-py3-none-any.whl (18 kB)\n",
      "Installing collected packages: threadpoolctl, scipy, joblib, scikit-learn\n",
      "Successfully installed joblib-1.4.2 scikit-learn-1.5.2 scipy-1.14.1 threadpoolctl-3.5.0\n",
      "Note: you may need to restart the kernel to use updated packages.\n"
     ]
    }
   ],
   "source": [
    "pip install scikit-learn"
   ]
  },
  {
   "cell_type": "code",
   "execution_count": 1,
   "metadata": {},
   "outputs": [
    {
     "name": "stdout",
     "output_type": "stream",
     "text": [
      "1.5.2\n"
     ]
    }
   ],
   "source": [
    "import sklearn\n",
    "print(sklearn.__version__)"
   ]
  },
  {
   "cell_type": "code",
   "execution_count": 2,
   "metadata": {},
   "outputs": [],
   "source": [
    "from sklearn.model_selection import train_test_split\n",
    "from sklearn.preprocessing import MinMaxScaler"
   ]
  },
  {
   "cell_type": "code",
   "execution_count": 5,
   "metadata": {},
   "outputs": [],
   "source": [
    "# Select relevant features\n",
    "data['Return'] = data['Close'].pct_change()\n",
    "data = data.dropna()"
   ]
  },
  {
   "cell_type": "code",
   "execution_count": 6,
   "metadata": {},
   "outputs": [],
   "source": [
    "# Feature scaling\n",
    "scaler = MinMaxScaler()\n",
    "scaled_data = scaler.fit_transform(data[['Close', 'Volume', 'Return']])"
   ]
  },
  {
   "cell_type": "code",
   "execution_count": 7,
   "metadata": {},
   "outputs": [],
   "source": [
    "# Splitting data\n",
    "train_size = int(len(scaled_data) * 0.8)\n",
    "train_data, test_data = scaled_data[:train_size], scaled_data[train_size:]"
   ]
  },
  {
   "cell_type": "code",
   "execution_count": 10,
   "metadata": {},
   "outputs": [],
   "source": [
    "# Building the Machine Learning Model"
   ]
  },
  {
   "cell_type": "code",
   "execution_count": null,
   "metadata": {},
   "outputs": [],
   "source": []
  }
 ],
 "metadata": {
  "kernelspec": {
   "display_name": "Python 3 (ipykernel)",
   "language": "python",
   "name": "python3"
  },
  "language_info": {
   "codemirror_mode": {
    "name": "ipython",
    "version": 3
   },
   "file_extension": ".py",
   "mimetype": "text/x-python",
   "name": "python",
   "nbconvert_exporter": "python",
   "pygments_lexer": "ipython3",
   "version": "3.12.0"
  }
 },
 "nbformat": 4,
 "nbformat_minor": 4
}
